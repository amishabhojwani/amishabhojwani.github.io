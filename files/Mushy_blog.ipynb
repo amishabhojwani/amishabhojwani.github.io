{
 "cells": [
  {
   "cell_type": "markdown",
   "id": "46423475",
   "metadata": {},
   "source": [
    "### Is this a blog? "
   ]
  },
  {
   "cell_type": "code",
   "execution_count": 1,
   "id": "970c1906",
   "metadata": {},
   "outputs": [
    {
     "name": "stdout",
     "output_type": "stream",
     "text": [
      "Yes, it is.\n"
     ]
    }
   ],
   "source": [
    "print('Yes, it is.')"
   ]
  }
 ],
 "metadata": {
  "kernelspec": {
   "display_name": "Python 3 (ipykernel)",
   "language": "python",
   "name": "python3"
  },
  "language_info": {
   "codemirror_mode": {
    "name": "ipython",
    "version": 3
   },
   "file_extension": ".py",
   "mimetype": "text/x-python",
   "name": "python",
   "nbconvert_exporter": "python",
   "pygments_lexer": "ipython3",
   "version": "3.9.7"
  }
 },
 "nbformat": 4,
 "nbformat_minor": 5
}
